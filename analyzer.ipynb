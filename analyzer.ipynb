{
 "cells": [
  {
   "cell_type": "code",
   "id": "initial_id",
   "metadata": {
    "collapsed": true,
    "ExecuteTime": {
     "end_time": "2024-12-02T03:17:27.453026Z",
     "start_time": "2024-12-02T03:17:20.147241Z"
    }
   },
   "source": [
    "import warnings\n",
    "warnings.filterwarnings('ignore')\n",
    "import pandas as pd\n",
    "import numpy as np\n",
    "import librosa\n",
    "import matplotlib.pyplot as plt\n",
    "\n",
    "import os\n",
    "from PIL import Image\n",
    "from pathlib import Path\n",
    "import csv\n",
    "\n",
    "from sklearn.model_selection import train_test_split\n",
    "from sklearn.preprocessing import LabelEncoder, StandardScaler\n",
    "\n",
    "from sklearn.linear_model import LinearRegression\n",
    "from sklearn.svm import SVC\n",
    "from sklearn.ensemble import RandomForestClassifier\n",
    "\n",
    "import tensorflow\n",
    "import librosa.display"
   ],
   "outputs": [],
   "execution_count": 1
  },
  {
   "metadata": {
    "ExecuteTime": {
     "end_time": "2024-12-02T03:27:16.101988Z",
     "start_time": "2024-12-02T03:27:16.091707Z"
    }
   },
   "cell_type": "code",
   "source": [
    "song_name = f'../Project-for-machine-learning/archive/genres/blues/blues.00000.au'\n",
    "y, sr = librosa.load(song_name, mono=True, duration=2, offset=0)\n",
    "#The IDE is telling me that \"feature\" is old, but it isn't\n",
    "#Newest library source: https://librosa.org/doc/0.10.2/generated/librosa.feature.melspectrogram.html#librosa.feature.melspectrogram\n",
    "ps = librosa.feature.melspectrogram(y=y, sr=sr, hop_length = 256, n_fft = 512, n_mels=128)\n",
    "ps = librosa.power_to_db(ps**2)\n",
    "ps.shape"
   ],
   "id": "260cf1837b456f8f",
   "outputs": [
    {
     "data": {
      "text/plain": [
       "(128, 173)"
      ]
     },
     "execution_count": 16,
     "metadata": {},
     "output_type": "execute_result"
    }
   ],
   "execution_count": 16
  },
  {
   "metadata": {
    "ExecuteTime": {
     "end_time": "2024-12-02T03:29:06.980588Z",
     "start_time": "2024-12-02T03:28:15.701695Z"
    }
   },
   "cell_type": "code",
   "source": [
    "dataset = []\n",
    "genres = {'blues': 0, 'classical': 1, 'country': 2, 'disco': 3, 'hiphop': 4, \n",
    "        'jazz': 5, 'metal': 6, 'pop': 7, 'reggae': 8, 'rock': 9}\n",
    "\n",
    "for genre, genre_number in genres.items():\n",
    "    for filename in os.listdir(f'../Project-for-machine-learning/archive/genres/{genre}'):\n",
    "        song_name = f'../Project-for-machine-learning/archive/genres/{genre}/{filename}'\n",
    "        for index in range(14):\n",
    "            y, sr = librosa.load(song_name, mono=True, duration=2, offset=index*2)\n",
    "            ps = librosa.feature.melspectrogram(y=y, sr=sr, hop_length = 256, n_fft = 512, n_mels=64)\n",
    "            ps = librosa.power_to_db(ps**2)\n",
    "            dataset.append( (ps, genre_number) )"
   ],
   "id": "f043ff30d8944c96",
   "outputs": [],
   "execution_count": 17
  },
  {
   "metadata": {
    "ExecuteTime": {
     "end_time": "2024-12-02T04:19:28.399878Z",
     "start_time": "2024-12-02T04:19:28.374738Z"
    }
   },
   "cell_type": "code",
   "source": "print(len(dataset))",
   "id": "a38a5e75edcb6504",
   "outputs": [
    {
     "name": "stdout",
     "output_type": "stream",
     "text": [
      "14000\n"
     ]
    }
   ],
   "execution_count": 18
  },
  {
   "metadata": {
    "ExecuteTime": {
     "end_time": "2024-12-02T04:19:57.473422Z",
     "start_time": "2024-12-02T04:19:56.876239Z"
    }
   },
   "cell_type": "code",
   "source": [
    "import random\n",
    "\n",
    "random.shuffle(dataset)\n",
    "\n",
    "train = dataset[:10000]\n",
    "valid = dataset[10000:12000]\n",
    "test = dataset[12000:]\n",
    "\n",
    "X_train, Y_train = zip(*train)\n",
    "X_valid, Y_valid = zip(*valid)\n",
    "X_test, Y_test = zip(*test)\n",
    "\n",
    "# Reshape for CNN input\n",
    "X_train = np.array([x.reshape( (64, 173, 1) ) for x in X_train])\n",
    "X_valid = np.array([x.reshape( (64, 173, 1) ) for x in X_valid])\n",
    "X_test = np.array([x.reshape( (64, 173, 1) ) for x in X_test])\n",
    "\n",
    "# One-Hot encoding for classes\n",
    "Y_train = np.array(tensorflow.keras.utils.to_categorical(Y_train, 10))\n",
    "Y_valid = np.array(tensorflow.keras.utils.to_categorical(Y_valid, 10))\n",
    "Y_test = np.array(tensorflow.keras.utils.to_categorical(Y_test, 10))"
   ],
   "id": "23e5bc32c87777eb",
   "outputs": [],
   "execution_count": 19
  },
  {
   "metadata": {
    "ExecuteTime": {
     "end_time": "2024-12-02T04:21:57.475728Z",
     "start_time": "2024-12-02T04:21:57.464480Z"
    }
   },
   "cell_type": "code",
   "source": "import tensorflow as tf\n",
   "id": "1eaa2f85e7d3c5f5",
   "outputs": [],
   "execution_count": 20
  },
  {
   "metadata": {},
   "cell_type": "code",
   "source": "!pip install transformers",
   "id": "139acaf151e805f1",
   "outputs": [],
   "execution_count": null
  },
  {
   "metadata": {
    "ExecuteTime": {
     "end_time": "2024-12-02T04:23:54.947064Z",
     "start_time": "2024-12-02T04:23:54.894456Z"
    }
   },
   "cell_type": "code",
   "source": [
    "from tensorflow.keras import Input\n",
    "\n",
    "len(X_train)\n",
    "X_train.shape\n",
    "n_features = X_train.shape[2]\n",
    "input_shape = (None, X_train.shape[1])\n",
    "print(input_shape)\n",
    "model_input = Input(input_shape, name='input')\n",
    "print(model_input)\n",
    "X_train.shape"
   ],
   "id": "c9449205d0d0d816",
   "outputs": [
    {
     "name": "stdout",
     "output_type": "stream",
     "text": [
      "(None, 64)\n",
      "<KerasTensor shape=(None, None, 64), dtype=float32, sparse=False, name=input>\n"
     ]
    },
    {
     "data": {
      "text/plain": [
       "(10000, 64, 173, 1)"
      ]
     },
     "execution_count": 22,
     "metadata": {},
     "output_type": "execute_result"
    }
   ],
   "execution_count": 22
  },
  {
   "metadata": {
    "ExecuteTime": {
     "end_time": "2024-12-02T04:24:53.318036Z",
     "start_time": "2024-12-02T04:24:53.246803Z"
    }
   },
   "cell_type": "code",
   "source": [
    "model = Sequential()\n",
    "model.add(Conv2D(20, (5, 5), input_shape=(64, 173, 1),\n",
    "                 activation=\"relu\", strides=1, padding=\"valid\"))\n",
    "model.add(MaxPooling2D(pool_size=(2, 2)))\n",
    "model.add(Conv2D(50, (5, 5), use_bias=50))\n",
    "model.add(MaxPooling2D(pool_size=(2, 2)))\n",
    "model.add(Flatten())\n",
    "model.add(Dropout(0.3))\n",
    "model.add(Dense(256))\n",
    "model.add(Dropout(0.3))\n",
    "model.add(Dense(10))\n",
    "model.add(Activation('softmax'))\n",
    "model.summary()"
   ],
   "id": "7b6506728bc10658",
   "outputs": [
    {
     "data": {
      "text/plain": [
       "\u001B[1mModel: \"sequential_2\"\u001B[0m\n"
      ],
      "text/html": [
       "<pre style=\"white-space:pre;overflow-x:auto;line-height:normal;font-family:Menlo,'DejaVu Sans Mono',consolas,'Courier New',monospace\"><span style=\"font-weight: bold\">Model: \"sequential_2\"</span>\n",
       "</pre>\n"
      ]
     },
     "metadata": {},
     "output_type": "display_data"
    },
    {
     "data": {
      "text/plain": [
       "┏━━━━━━━━━━━━━━━━━━━━━━━━━━━━━━━━━┳━━━━━━━━━━━━━━━━━━━━━━━━┳━━━━━━━━━━━━━━━┓\n",
       "┃\u001B[1m \u001B[0m\u001B[1mLayer (type)                   \u001B[0m\u001B[1m \u001B[0m┃\u001B[1m \u001B[0m\u001B[1mOutput Shape          \u001B[0m\u001B[1m \u001B[0m┃\u001B[1m \u001B[0m\u001B[1m      Param #\u001B[0m\u001B[1m \u001B[0m┃\n",
       "┡━━━━━━━━━━━━━━━━━━━━━━━━━━━━━━━━━╇━━━━━━━━━━━━━━━━━━━━━━━━╇━━━━━━━━━━━━━━━┩\n",
       "│ conv2d_4 (\u001B[38;5;33mConv2D\u001B[0m)               │ (\u001B[38;5;45mNone\u001B[0m, \u001B[38;5;34m60\u001B[0m, \u001B[38;5;34m169\u001B[0m, \u001B[38;5;34m20\u001B[0m)    │           \u001B[38;5;34m520\u001B[0m │\n",
       "├─────────────────────────────────┼────────────────────────┼───────────────┤\n",
       "│ max_pooling2d_4 (\u001B[38;5;33mMaxPooling2D\u001B[0m)  │ (\u001B[38;5;45mNone\u001B[0m, \u001B[38;5;34m30\u001B[0m, \u001B[38;5;34m84\u001B[0m, \u001B[38;5;34m20\u001B[0m)     │             \u001B[38;5;34m0\u001B[0m │\n",
       "├─────────────────────────────────┼────────────────────────┼───────────────┤\n",
       "│ conv2d_5 (\u001B[38;5;33mConv2D\u001B[0m)               │ (\u001B[38;5;45mNone\u001B[0m, \u001B[38;5;34m26\u001B[0m, \u001B[38;5;34m80\u001B[0m, \u001B[38;5;34m50\u001B[0m)     │        \u001B[38;5;34m25,050\u001B[0m │\n",
       "├─────────────────────────────────┼────────────────────────┼───────────────┤\n",
       "│ max_pooling2d_5 (\u001B[38;5;33mMaxPooling2D\u001B[0m)  │ (\u001B[38;5;45mNone\u001B[0m, \u001B[38;5;34m13\u001B[0m, \u001B[38;5;34m40\u001B[0m, \u001B[38;5;34m50\u001B[0m)     │             \u001B[38;5;34m0\u001B[0m │\n",
       "├─────────────────────────────────┼────────────────────────┼───────────────┤\n",
       "│ flatten_2 (\u001B[38;5;33mFlatten\u001B[0m)             │ (\u001B[38;5;45mNone\u001B[0m, \u001B[38;5;34m26000\u001B[0m)          │             \u001B[38;5;34m0\u001B[0m │\n",
       "├─────────────────────────────────┼────────────────────────┼───────────────┤\n",
       "│ dropout_4 (\u001B[38;5;33mDropout\u001B[0m)             │ (\u001B[38;5;45mNone\u001B[0m, \u001B[38;5;34m26000\u001B[0m)          │             \u001B[38;5;34m0\u001B[0m │\n",
       "├─────────────────────────────────┼────────────────────────┼───────────────┤\n",
       "│ dense_4 (\u001B[38;5;33mDense\u001B[0m)                 │ (\u001B[38;5;45mNone\u001B[0m, \u001B[38;5;34m256\u001B[0m)            │     \u001B[38;5;34m6,656,256\u001B[0m │\n",
       "├─────────────────────────────────┼────────────────────────┼───────────────┤\n",
       "│ dropout_5 (\u001B[38;5;33mDropout\u001B[0m)             │ (\u001B[38;5;45mNone\u001B[0m, \u001B[38;5;34m256\u001B[0m)            │             \u001B[38;5;34m0\u001B[0m │\n",
       "├─────────────────────────────────┼────────────────────────┼───────────────┤\n",
       "│ dense_5 (\u001B[38;5;33mDense\u001B[0m)                 │ (\u001B[38;5;45mNone\u001B[0m, \u001B[38;5;34m10\u001B[0m)             │         \u001B[38;5;34m2,570\u001B[0m │\n",
       "├─────────────────────────────────┼────────────────────────┼───────────────┤\n",
       "│ activation_2 (\u001B[38;5;33mActivation\u001B[0m)       │ (\u001B[38;5;45mNone\u001B[0m, \u001B[38;5;34m10\u001B[0m)             │             \u001B[38;5;34m0\u001B[0m │\n",
       "└─────────────────────────────────┴────────────────────────┴───────────────┘\n"
      ],
      "text/html": [
       "<pre style=\"white-space:pre;overflow-x:auto;line-height:normal;font-family:Menlo,'DejaVu Sans Mono',consolas,'Courier New',monospace\">┏━━━━━━━━━━━━━━━━━━━━━━━━━━━━━━━━━┳━━━━━━━━━━━━━━━━━━━━━━━━┳━━━━━━━━━━━━━━━┓\n",
       "┃<span style=\"font-weight: bold\"> Layer (type)                    </span>┃<span style=\"font-weight: bold\"> Output Shape           </span>┃<span style=\"font-weight: bold\">       Param # </span>┃\n",
       "┡━━━━━━━━━━━━━━━━━━━━━━━━━━━━━━━━━╇━━━━━━━━━━━━━━━━━━━━━━━━╇━━━━━━━━━━━━━━━┩\n",
       "│ conv2d_4 (<span style=\"color: #0087ff; text-decoration-color: #0087ff\">Conv2D</span>)               │ (<span style=\"color: #00d7ff; text-decoration-color: #00d7ff\">None</span>, <span style=\"color: #00af00; text-decoration-color: #00af00\">60</span>, <span style=\"color: #00af00; text-decoration-color: #00af00\">169</span>, <span style=\"color: #00af00; text-decoration-color: #00af00\">20</span>)    │           <span style=\"color: #00af00; text-decoration-color: #00af00\">520</span> │\n",
       "├─────────────────────────────────┼────────────────────────┼───────────────┤\n",
       "│ max_pooling2d_4 (<span style=\"color: #0087ff; text-decoration-color: #0087ff\">MaxPooling2D</span>)  │ (<span style=\"color: #00d7ff; text-decoration-color: #00d7ff\">None</span>, <span style=\"color: #00af00; text-decoration-color: #00af00\">30</span>, <span style=\"color: #00af00; text-decoration-color: #00af00\">84</span>, <span style=\"color: #00af00; text-decoration-color: #00af00\">20</span>)     │             <span style=\"color: #00af00; text-decoration-color: #00af00\">0</span> │\n",
       "├─────────────────────────────────┼────────────────────────┼───────────────┤\n",
       "│ conv2d_5 (<span style=\"color: #0087ff; text-decoration-color: #0087ff\">Conv2D</span>)               │ (<span style=\"color: #00d7ff; text-decoration-color: #00d7ff\">None</span>, <span style=\"color: #00af00; text-decoration-color: #00af00\">26</span>, <span style=\"color: #00af00; text-decoration-color: #00af00\">80</span>, <span style=\"color: #00af00; text-decoration-color: #00af00\">50</span>)     │        <span style=\"color: #00af00; text-decoration-color: #00af00\">25,050</span> │\n",
       "├─────────────────────────────────┼────────────────────────┼───────────────┤\n",
       "│ max_pooling2d_5 (<span style=\"color: #0087ff; text-decoration-color: #0087ff\">MaxPooling2D</span>)  │ (<span style=\"color: #00d7ff; text-decoration-color: #00d7ff\">None</span>, <span style=\"color: #00af00; text-decoration-color: #00af00\">13</span>, <span style=\"color: #00af00; text-decoration-color: #00af00\">40</span>, <span style=\"color: #00af00; text-decoration-color: #00af00\">50</span>)     │             <span style=\"color: #00af00; text-decoration-color: #00af00\">0</span> │\n",
       "├─────────────────────────────────┼────────────────────────┼───────────────┤\n",
       "│ flatten_2 (<span style=\"color: #0087ff; text-decoration-color: #0087ff\">Flatten</span>)             │ (<span style=\"color: #00d7ff; text-decoration-color: #00d7ff\">None</span>, <span style=\"color: #00af00; text-decoration-color: #00af00\">26000</span>)          │             <span style=\"color: #00af00; text-decoration-color: #00af00\">0</span> │\n",
       "├─────────────────────────────────┼────────────────────────┼───────────────┤\n",
       "│ dropout_4 (<span style=\"color: #0087ff; text-decoration-color: #0087ff\">Dropout</span>)             │ (<span style=\"color: #00d7ff; text-decoration-color: #00d7ff\">None</span>, <span style=\"color: #00af00; text-decoration-color: #00af00\">26000</span>)          │             <span style=\"color: #00af00; text-decoration-color: #00af00\">0</span> │\n",
       "├─────────────────────────────────┼────────────────────────┼───────────────┤\n",
       "│ dense_4 (<span style=\"color: #0087ff; text-decoration-color: #0087ff\">Dense</span>)                 │ (<span style=\"color: #00d7ff; text-decoration-color: #00d7ff\">None</span>, <span style=\"color: #00af00; text-decoration-color: #00af00\">256</span>)            │     <span style=\"color: #00af00; text-decoration-color: #00af00\">6,656,256</span> │\n",
       "├─────────────────────────────────┼────────────────────────┼───────────────┤\n",
       "│ dropout_5 (<span style=\"color: #0087ff; text-decoration-color: #0087ff\">Dropout</span>)             │ (<span style=\"color: #00d7ff; text-decoration-color: #00d7ff\">None</span>, <span style=\"color: #00af00; text-decoration-color: #00af00\">256</span>)            │             <span style=\"color: #00af00; text-decoration-color: #00af00\">0</span> │\n",
       "├─────────────────────────────────┼────────────────────────┼───────────────┤\n",
       "│ dense_5 (<span style=\"color: #0087ff; text-decoration-color: #0087ff\">Dense</span>)                 │ (<span style=\"color: #00d7ff; text-decoration-color: #00d7ff\">None</span>, <span style=\"color: #00af00; text-decoration-color: #00af00\">10</span>)             │         <span style=\"color: #00af00; text-decoration-color: #00af00\">2,570</span> │\n",
       "├─────────────────────────────────┼────────────────────────┼───────────────┤\n",
       "│ activation_2 (<span style=\"color: #0087ff; text-decoration-color: #0087ff\">Activation</span>)       │ (<span style=\"color: #00d7ff; text-decoration-color: #00d7ff\">None</span>, <span style=\"color: #00af00; text-decoration-color: #00af00\">10</span>)             │             <span style=\"color: #00af00; text-decoration-color: #00af00\">0</span> │\n",
       "└─────────────────────────────────┴────────────────────────┴───────────────┘\n",
       "</pre>\n"
      ]
     },
     "metadata": {},
     "output_type": "display_data"
    },
    {
     "data": {
      "text/plain": [
       "\u001B[1m Total params: \u001B[0m\u001B[38;5;34m6,684,396\u001B[0m (25.50 MB)\n"
      ],
      "text/html": [
       "<pre style=\"white-space:pre;overflow-x:auto;line-height:normal;font-family:Menlo,'DejaVu Sans Mono',consolas,'Courier New',monospace\"><span style=\"font-weight: bold\"> Total params: </span><span style=\"color: #00af00; text-decoration-color: #00af00\">6,684,396</span> (25.50 MB)\n",
       "</pre>\n"
      ]
     },
     "metadata": {},
     "output_type": "display_data"
    },
    {
     "data": {
      "text/plain": [
       "\u001B[1m Trainable params: \u001B[0m\u001B[38;5;34m6,684,396\u001B[0m (25.50 MB)\n"
      ],
      "text/html": [
       "<pre style=\"white-space:pre;overflow-x:auto;line-height:normal;font-family:Menlo,'DejaVu Sans Mono',consolas,'Courier New',monospace\"><span style=\"font-weight: bold\"> Trainable params: </span><span style=\"color: #00af00; text-decoration-color: #00af00\">6,684,396</span> (25.50 MB)\n",
       "</pre>\n"
      ]
     },
     "metadata": {},
     "output_type": "display_data"
    },
    {
     "data": {
      "text/plain": [
       "\u001B[1m Non-trainable params: \u001B[0m\u001B[38;5;34m0\u001B[0m (0.00 B)\n"
      ],
      "text/html": [
       "<pre style=\"white-space:pre;overflow-x:auto;line-height:normal;font-family:Menlo,'DejaVu Sans Mono',consolas,'Courier New',monospace\"><span style=\"font-weight: bold\"> Non-trainable params: </span><span style=\"color: #00af00; text-decoration-color: #00af00\">0</span> (0.00 B)\n",
       "</pre>\n"
      ]
     },
     "metadata": {},
     "output_type": "display_data"
    }
   ],
   "execution_count": 25
  },
  {
   "metadata": {
    "ExecuteTime": {
     "end_time": "2024-12-02T04:26:06.252888Z",
     "start_time": "2024-12-02T04:26:06.237956Z"
    }
   },
   "cell_type": "code",
   "source": [
    "from tensorflow.keras.optimizers import Adam\n",
    "model.compile(optimizer=Adam(learning_rate = 1e-5), loss=\"categorical_crossentropy\", metrics=['accuracy'])"
   ],
   "id": "d3651c36665c891",
   "outputs": [],
   "execution_count": 28
  },
  {
   "metadata": {
    "ExecuteTime": {
     "end_time": "2024-12-02T04:41:00.517881Z",
     "start_time": "2024-12-02T04:26:23.084746Z"
    }
   },
   "cell_type": "code",
   "source": [
    "from tensorflow.keras.callbacks import EarlyStopping\n",
    "early_stopping = EarlyStopping(monitor='val_loss', patience=20, verbose=2)\n",
    "history = model.fit(X_train, Y_train, epochs=40, batch_size=64, validation_data= (X_test, Y_test), callbacks=[early_stopping])\n",
    "\n",
    "# My pc can't run that many epochs (╥﹏╥)\n",
    "# Hopefully I get a better one ( ◡̀_◡́)ᕤ"
   ],
   "id": "b0b109ccf4489995",
   "outputs": [
    {
     "name": "stdout",
     "output_type": "stream",
     "text": [
      "Epoch 1/90\n",
      "\u001B[1m157/157\u001B[0m \u001B[32m━━━━━━━━━━━━━━━━━━━━\u001B[0m\u001B[37m\u001B[0m \u001B[1m17s\u001B[0m 102ms/step - accuracy: 0.1435 - loss: 13.3000 - val_accuracy: 0.3555 - val_loss: 3.2019\n",
      "Epoch 2/90\n",
      "\u001B[1m157/157\u001B[0m \u001B[32m━━━━━━━━━━━━━━━━━━━━\u001B[0m\u001B[37m\u001B[0m \u001B[1m15s\u001B[0m 98ms/step - accuracy: 0.2673 - loss: 6.4129 - val_accuracy: 0.4335 - val_loss: 2.4715\n",
      "Epoch 3/90\n",
      "\u001B[1m157/157\u001B[0m \u001B[32m━━━━━━━━━━━━━━━━━━━━\u001B[0m\u001B[37m\u001B[0m \u001B[1m16s\u001B[0m 101ms/step - accuracy: 0.3487 - loss: 4.3188 - val_accuracy: 0.4690 - val_loss: 2.1259\n",
      "Epoch 4/90\n",
      "\u001B[1m157/157\u001B[0m \u001B[32m━━━━━━━━━━━━━━━━━━━━\u001B[0m\u001B[37m\u001B[0m \u001B[1m16s\u001B[0m 103ms/step - accuracy: 0.3947 - loss: 3.2749 - val_accuracy: 0.4990 - val_loss: 1.9033\n",
      "Epoch 5/90\n",
      "\u001B[1m157/157\u001B[0m \u001B[32m━━━━━━━━━━━━━━━━━━━━\u001B[0m\u001B[37m\u001B[0m \u001B[1m17s\u001B[0m 106ms/step - accuracy: 0.4363 - loss: 2.6312 - val_accuracy: 0.5060 - val_loss: 1.8252\n",
      "Epoch 6/90\n",
      "\u001B[1m157/157\u001B[0m \u001B[32m━━━━━━━━━━━━━━━━━━━━\u001B[0m\u001B[37m\u001B[0m \u001B[1m17s\u001B[0m 106ms/step - accuracy: 0.4639 - loss: 2.3759 - val_accuracy: 0.5135 - val_loss: 1.7553\n",
      "Epoch 7/90\n",
      "\u001B[1m157/157\u001B[0m \u001B[32m━━━━━━━━━━━━━━━━━━━━\u001B[0m\u001B[37m\u001B[0m \u001B[1m17s\u001B[0m 107ms/step - accuracy: 0.4870 - loss: 2.1901 - val_accuracy: 0.5360 - val_loss: 1.6681\n",
      "Epoch 8/90\n",
      "\u001B[1m157/157\u001B[0m \u001B[32m━━━━━━━━━━━━━━━━━━━━\u001B[0m\u001B[37m\u001B[0m \u001B[1m17s\u001B[0m 108ms/step - accuracy: 0.5188 - loss: 1.9395 - val_accuracy: 0.5475 - val_loss: 1.6170\n",
      "Epoch 9/90\n",
      "\u001B[1m157/157\u001B[0m \u001B[32m━━━━━━━━━━━━━━━━━━━━\u001B[0m\u001B[37m\u001B[0m \u001B[1m17s\u001B[0m 107ms/step - accuracy: 0.5276 - loss: 1.8666 - val_accuracy: 0.5465 - val_loss: 1.5896\n",
      "Epoch 10/90\n",
      "\u001B[1m157/157\u001B[0m \u001B[32m━━━━━━━━━━━━━━━━━━━━\u001B[0m\u001B[37m\u001B[0m \u001B[1m17s\u001B[0m 108ms/step - accuracy: 0.5561 - loss: 1.7040 - val_accuracy: 0.5560 - val_loss: 1.5625\n",
      "Epoch 11/90\n",
      "\u001B[1m157/157\u001B[0m \u001B[32m━━━━━━━━━━━━━━━━━━━━\u001B[0m\u001B[37m\u001B[0m \u001B[1m17s\u001B[0m 107ms/step - accuracy: 0.5622 - loss: 1.6354 - val_accuracy: 0.5580 - val_loss: 1.5550\n",
      "Epoch 12/90\n",
      "\u001B[1m157/157\u001B[0m \u001B[32m━━━━━━━━━━━━━━━━━━━━\u001B[0m\u001B[37m\u001B[0m \u001B[1m17s\u001B[0m 108ms/step - accuracy: 0.5959 - loss: 1.4634 - val_accuracy: 0.5845 - val_loss: 1.4883\n",
      "Epoch 13/90\n",
      "\u001B[1m157/157\u001B[0m \u001B[32m━━━━━━━━━━━━━━━━━━━━\u001B[0m\u001B[37m\u001B[0m \u001B[1m17s\u001B[0m 107ms/step - accuracy: 0.6118 - loss: 1.4101 - val_accuracy: 0.5855 - val_loss: 1.4628\n",
      "Epoch 14/90\n",
      "\u001B[1m157/157\u001B[0m \u001B[32m━━━━━━━━━━━━━━━━━━━━\u001B[0m\u001B[37m\u001B[0m \u001B[1m17s\u001B[0m 106ms/step - accuracy: 0.6251 - loss: 1.3403 - val_accuracy: 0.5765 - val_loss: 1.4997\n",
      "Epoch 15/90\n",
      "\u001B[1m157/157\u001B[0m \u001B[32m━━━━━━━━━━━━━━━━━━━━\u001B[0m\u001B[37m\u001B[0m \u001B[1m29s\u001B[0m 183ms/step - accuracy: 0.6506 - loss: 1.2308 - val_accuracy: 0.5935 - val_loss: 1.4721\n",
      "Epoch 16/90\n",
      "\u001B[1m157/157\u001B[0m \u001B[32m━━━━━━━━━━━━━━━━━━━━\u001B[0m\u001B[37m\u001B[0m \u001B[1m45s\u001B[0m 208ms/step - accuracy: 0.6515 - loss: 1.1672 - val_accuracy: 0.6070 - val_loss: 1.4399\n",
      "Epoch 17/90\n",
      "\u001B[1m157/157\u001B[0m \u001B[32m━━━━━━━━━━━━━━━━━━━━\u001B[0m\u001B[37m\u001B[0m \u001B[1m26s\u001B[0m 168ms/step - accuracy: 0.6800 - loss: 1.0748 - val_accuracy: 0.6025 - val_loss: 1.4204\n",
      "Epoch 18/90\n",
      "\u001B[1m157/157\u001B[0m \u001B[32m━━━━━━━━━━━━━━━━━━━━\u001B[0m\u001B[37m\u001B[0m \u001B[1m16s\u001B[0m 102ms/step - accuracy: 0.6831 - loss: 1.0356 - val_accuracy: 0.6130 - val_loss: 1.4107\n",
      "Epoch 19/90\n",
      "\u001B[1m157/157\u001B[0m \u001B[32m━━━━━━━━━━━━━━━━━━━━\u001B[0m\u001B[37m\u001B[0m \u001B[1m16s\u001B[0m 104ms/step - accuracy: 0.6934 - loss: 0.9846 - val_accuracy: 0.6110 - val_loss: 1.4207\n",
      "Epoch 20/90\n",
      "\u001B[1m157/157\u001B[0m \u001B[32m━━━━━━━━━━━━━━━━━━━━\u001B[0m\u001B[37m\u001B[0m \u001B[1m16s\u001B[0m 104ms/step - accuracy: 0.7209 - loss: 0.9254 - val_accuracy: 0.6235 - val_loss: 1.3744\n",
      "Epoch 21/90\n",
      "\u001B[1m157/157\u001B[0m \u001B[32m━━━━━━━━━━━━━━━━━━━━\u001B[0m\u001B[37m\u001B[0m \u001B[1m17s\u001B[0m 106ms/step - accuracy: 0.7249 - loss: 0.8617 - val_accuracy: 0.6170 - val_loss: 1.3874\n",
      "Epoch 22/90\n",
      "\u001B[1m157/157\u001B[0m \u001B[32m━━━━━━━━━━━━━━━━━━━━\u001B[0m\u001B[37m\u001B[0m \u001B[1m17s\u001B[0m 110ms/step - accuracy: 0.7404 - loss: 0.8120 - val_accuracy: 0.6160 - val_loss: 1.3892\n",
      "Epoch 23/90\n",
      "\u001B[1m157/157\u001B[0m \u001B[32m━━━━━━━━━━━━━━━━━━━━\u001B[0m\u001B[37m\u001B[0m \u001B[1m20s\u001B[0m 125ms/step - accuracy: 0.7435 - loss: 0.7785 - val_accuracy: 0.6100 - val_loss: 1.3961\n",
      "Epoch 24/90\n",
      "\u001B[1m157/157\u001B[0m \u001B[32m━━━━━━━━━━━━━━━━━━━━\u001B[0m\u001B[37m\u001B[0m \u001B[1m17s\u001B[0m 106ms/step - accuracy: 0.7596 - loss: 0.7338 - val_accuracy: 0.6220 - val_loss: 1.3877\n",
      "Epoch 25/90\n",
      "\u001B[1m157/157\u001B[0m \u001B[32m━━━━━━━━━━━━━━━━━━━━\u001B[0m\u001B[37m\u001B[0m \u001B[1m16s\u001B[0m 103ms/step - accuracy: 0.7761 - loss: 0.6788 - val_accuracy: 0.6250 - val_loss: 1.3666\n",
      "Epoch 26/90\n",
      "\u001B[1m157/157\u001B[0m \u001B[32m━━━━━━━━━━━━━━━━━━━━\u001B[0m\u001B[37m\u001B[0m \u001B[1m16s\u001B[0m 104ms/step - accuracy: 0.7795 - loss: 0.6743 - val_accuracy: 0.6285 - val_loss: 1.3725\n",
      "Epoch 27/90\n",
      "\u001B[1m157/157\u001B[0m \u001B[32m━━━━━━━━━━━━━━━━━━━━\u001B[0m\u001B[37m\u001B[0m \u001B[1m16s\u001B[0m 103ms/step - accuracy: 0.7931 - loss: 0.6208 - val_accuracy: 0.6260 - val_loss: 1.3576\n",
      "Epoch 28/90\n",
      "\u001B[1m157/157\u001B[0m \u001B[32m━━━━━━━━━━━━━━━━━━━━\u001B[0m\u001B[37m\u001B[0m \u001B[1m16s\u001B[0m 103ms/step - accuracy: 0.8025 - loss: 0.5840 - val_accuracy: 0.6295 - val_loss: 1.3682\n",
      "Epoch 29/90\n",
      "\u001B[1m157/157\u001B[0m \u001B[32m━━━━━━━━━━━━━━━━━━━━\u001B[0m\u001B[37m\u001B[0m \u001B[1m16s\u001B[0m 104ms/step - accuracy: 0.8120 - loss: 0.5469 - val_accuracy: 0.6235 - val_loss: 1.3877\n",
      "Epoch 30/90\n",
      "\u001B[1m157/157\u001B[0m \u001B[32m━━━━━━━━━━━━━━━━━━━━\u001B[0m\u001B[37m\u001B[0m \u001B[1m16s\u001B[0m 104ms/step - accuracy: 0.8163 - loss: 0.5496 - val_accuracy: 0.6335 - val_loss: 1.3485\n",
      "Epoch 31/90\n",
      "\u001B[1m157/157\u001B[0m \u001B[32m━━━━━━━━━━━━━━━━━━━━\u001B[0m\u001B[37m\u001B[0m \u001B[1m16s\u001B[0m 102ms/step - accuracy: 0.8310 - loss: 0.4989 - val_accuracy: 0.6365 - val_loss: 1.3655\n",
      "Epoch 32/90\n",
      "\u001B[1m157/157\u001B[0m \u001B[32m━━━━━━━━━━━━━━━━━━━━\u001B[0m\u001B[37m\u001B[0m \u001B[1m16s\u001B[0m 102ms/step - accuracy: 0.8377 - loss: 0.4878 - val_accuracy: 0.6370 - val_loss: 1.3568\n",
      "Epoch 33/90\n",
      "\u001B[1m157/157\u001B[0m \u001B[32m━━━━━━━━━━━━━━━━━━━━\u001B[0m\u001B[37m\u001B[0m \u001B[1m16s\u001B[0m 102ms/step - accuracy: 0.8463 - loss: 0.4432 - val_accuracy: 0.6415 - val_loss: 1.3520\n",
      "Epoch 34/90\n",
      "\u001B[1m157/157\u001B[0m \u001B[32m━━━━━━━━━━━━━━━━━━━━\u001B[0m\u001B[37m\u001B[0m \u001B[1m16s\u001B[0m 103ms/step - accuracy: 0.8475 - loss: 0.4317 - val_accuracy: 0.6355 - val_loss: 1.3732\n",
      "Epoch 35/90\n",
      "\u001B[1m157/157\u001B[0m \u001B[32m━━━━━━━━━━━━━━━━━━━━\u001B[0m\u001B[37m\u001B[0m \u001B[1m16s\u001B[0m 103ms/step - accuracy: 0.8652 - loss: 0.3952 - val_accuracy: 0.6400 - val_loss: 1.3701\n",
      "Epoch 36/90\n",
      "\u001B[1m157/157\u001B[0m \u001B[32m━━━━━━━━━━━━━━━━━━━━\u001B[0m\u001B[37m\u001B[0m \u001B[1m16s\u001B[0m 103ms/step - accuracy: 0.8616 - loss: 0.3901 - val_accuracy: 0.6405 - val_loss: 1.3501\n",
      "Epoch 37/90\n",
      "\u001B[1m157/157\u001B[0m \u001B[32m━━━━━━━━━━━━━━━━━━━━\u001B[0m\u001B[37m\u001B[0m \u001B[1m16s\u001B[0m 103ms/step - accuracy: 0.8752 - loss: 0.3663 - val_accuracy: 0.6400 - val_loss: 1.3855\n",
      "Epoch 38/90\n",
      "\u001B[1m157/157\u001B[0m \u001B[32m━━━━━━━━━━━━━━━━━━━━\u001B[0m\u001B[37m\u001B[0m \u001B[1m16s\u001B[0m 103ms/step - accuracy: 0.8762 - loss: 0.3737 - val_accuracy: 0.6380 - val_loss: 1.3878\n",
      "Epoch 39/90\n",
      "\u001B[1m157/157\u001B[0m \u001B[32m━━━━━━━━━━━━━━━━━━━━\u001B[0m\u001B[37m\u001B[0m \u001B[1m16s\u001B[0m 103ms/step - accuracy: 0.8842 - loss: 0.3267 - val_accuracy: 0.6375 - val_loss: 1.3630\n",
      "Epoch 40/90\n",
      "\u001B[1m157/157\u001B[0m \u001B[32m━━━━━━━━━━━━━━━━━━━━\u001B[0m\u001B[37m\u001B[0m \u001B[1m16s\u001B[0m 105ms/step - accuracy: 0.8915 - loss: 0.3174 - val_accuracy: 0.6440 - val_loss: 1.3876\n",
      "Epoch 41/90\n",
      "\u001B[1m157/157\u001B[0m \u001B[32m━━━━━━━━━━━━━━━━━━━━\u001B[0m\u001B[37m\u001B[0m \u001B[1m16s\u001B[0m 105ms/step - accuracy: 0.8983 - loss: 0.2854 - val_accuracy: 0.6420 - val_loss: 1.3764\n",
      "Epoch 42/90\n",
      "\u001B[1m157/157\u001B[0m \u001B[32m━━━━━━━━━━━━━━━━━━━━\u001B[0m\u001B[37m\u001B[0m \u001B[1m16s\u001B[0m 104ms/step - accuracy: 0.8958 - loss: 0.2979 - val_accuracy: 0.6395 - val_loss: 1.3832\n",
      "Epoch 43/90\n",
      "\u001B[1m157/157\u001B[0m \u001B[32m━━━━━━━━━━━━━━━━━━━━\u001B[0m\u001B[37m\u001B[0m \u001B[1m17s\u001B[0m 106ms/step - accuracy: 0.9070 - loss: 0.2641 - val_accuracy: 0.6470 - val_loss: 1.3931\n",
      "Epoch 44/90\n",
      "\u001B[1m157/157\u001B[0m \u001B[32m━━━━━━━━━━━━━━━━━━━━\u001B[0m\u001B[37m\u001B[0m \u001B[1m16s\u001B[0m 105ms/step - accuracy: 0.9106 - loss: 0.2567 - val_accuracy: 0.6390 - val_loss: 1.3913\n",
      "Epoch 45/90\n",
      "\u001B[1m157/157\u001B[0m \u001B[32m━━━━━━━━━━━━━━━━━━━━\u001B[0m\u001B[37m\u001B[0m \u001B[1m16s\u001B[0m 105ms/step - accuracy: 0.9177 - loss: 0.2463 - val_accuracy: 0.6455 - val_loss: 1.3742\n",
      "Epoch 46/90\n",
      "\u001B[1m157/157\u001B[0m \u001B[32m━━━━━━━━━━━━━━━━━━━━\u001B[0m\u001B[37m\u001B[0m \u001B[1m17s\u001B[0m 106ms/step - accuracy: 0.9191 - loss: 0.2402 - val_accuracy: 0.6480 - val_loss: 1.4154\n",
      "Epoch 47/90\n",
      "\u001B[1m157/157\u001B[0m \u001B[32m━━━━━━━━━━━━━━━━━━━━\u001B[0m\u001B[37m\u001B[0m \u001B[1m17s\u001B[0m 105ms/step - accuracy: 0.9257 - loss: 0.2185 - val_accuracy: 0.6525 - val_loss: 1.4012\n",
      "Epoch 48/90\n",
      "\u001B[1m157/157\u001B[0m \u001B[32m━━━━━━━━━━━━━━━━━━━━\u001B[0m\u001B[37m\u001B[0m \u001B[1m16s\u001B[0m 104ms/step - accuracy: 0.9279 - loss: 0.2139 - val_accuracy: 0.6435 - val_loss: 1.4021\n",
      "Epoch 49/90\n",
      "\u001B[1m157/157\u001B[0m \u001B[32m━━━━━━━━━━━━━━━━━━━━\u001B[0m\u001B[37m\u001B[0m \u001B[1m17s\u001B[0m 105ms/step - accuracy: 0.9392 - loss: 0.1895 - val_accuracy: 0.6490 - val_loss: 1.4118\n",
      "Epoch 50/90\n",
      "\u001B[1m157/157\u001B[0m \u001B[32m━━━━━━━━━━━━━━━━━━━━\u001B[0m\u001B[37m\u001B[0m \u001B[1m17s\u001B[0m 105ms/step - accuracy: 0.9290 - loss: 0.2034 - val_accuracy: 0.6445 - val_loss: 1.3938\n",
      "Epoch 50: early stopping\n"
     ]
    }
   ],
   "execution_count": 29
  },
  {
   "metadata": {},
   "cell_type": "code",
   "outputs": [],
   "execution_count": null,
   "source": "",
   "id": "a3143a7372268cd4"
  }
 ],
 "metadata": {
  "kernelspec": {
   "display_name": "Python 3",
   "language": "python",
   "name": "python3"
  },
  "language_info": {
   "codemirror_mode": {
    "name": "ipython",
    "version": 2
   },
   "file_extension": ".py",
   "mimetype": "text/x-python",
   "name": "python",
   "nbconvert_exporter": "python",
   "pygments_lexer": "ipython2",
   "version": "2.7.6"
  }
 },
 "nbformat": 4,
 "nbformat_minor": 5
}
